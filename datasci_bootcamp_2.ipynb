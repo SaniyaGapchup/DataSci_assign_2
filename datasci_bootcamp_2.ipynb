{
 "cells": [
  {
   "cell_type": "code",
   "execution_count": 80,
   "id": "c9c60ac7-5045-4358-9aa1-8e42c51aae94",
   "metadata": {},
   "outputs": [],
   "source": [
    "import numpy as np\n",
    "import pandas as pd"
   ]
  },
  {
   "cell_type": "markdown",
   "id": "d391df27-e261-4604-8ae5-376eb147107b",
   "metadata": {},
   "source": [
    "1. Define two custom numpy arrays, say A and B. Generate two new numpy\n",
    "arrays by stacking A and B vertically and horizontally."
   ]
  },
  {
   "cell_type": "code",
   "execution_count": 83,
   "id": "c80864c6-28d1-4519-968f-be46b4580157",
   "metadata": {},
   "outputs": [],
   "source": [
    "\n",
    "A = np.array([1, 2, 3, 4, 5])\n",
    "B = np.array([4, 5, 6, 7, 8])\n",
    "vertical_stack = np.vstack((A, B))\n",
    "horizontal_stack = np.hstack((A, B))"
   ]
  },
  {
   "cell_type": "markdown",
   "id": "e14ceaf3-24a6-464c-8fca-46914c6250bb",
   "metadata": {},
   "source": [
    "print(vertical_stack)\n"
   ]
  },
  {
   "cell_type": "code",
   "execution_count": 86,
   "id": "a8cdc88e-0bc7-49f9-96f7-7c688b554822",
   "metadata": {},
   "outputs": [
    {
     "name": "stdout",
     "output_type": "stream",
     "text": [
      "[1 2 3 4 5 4 5 6 7 8]\n"
     ]
    }
   ],
   "source": [
    "print(horizontal_stack)"
   ]
  },
  {
   "cell_type": "markdown",
   "id": "67235393-2e60-47c4-903e-cc4eb2d2550c",
   "metadata": {},
   "source": [
    "2. ind common elements between A and B"
   ]
  },
  {
   "cell_type": "code",
   "execution_count": 89,
   "id": "62ead63b-ac86-441c-a2b8-d1ed53c45df2",
   "metadata": {},
   "outputs": [
    {
     "name": "stdout",
     "output_type": "stream",
     "text": [
      "[4 5]\n"
     ]
    }
   ],
   "source": [
    "common_elements = np.intersect1d(A, B)\n",
    "print(common_elements)"
   ]
  },
  {
   "cell_type": "markdown",
   "id": "15aad741-5797-421e-a9fc-50ae040bef1f",
   "metadata": {},
   "source": [
    "3. Extract all numbers from A which are within a specific range. eg\n",
    "between 5 and 10"
   ]
  },
  {
   "cell_type": "code",
   "execution_count": 92,
   "id": "326497f1-5674-4a62-ac6b-164776adbc05",
   "metadata": {},
   "outputs": [
    {
     "name": "stdout",
     "output_type": "stream",
     "text": [
      "[5]\n"
     ]
    }
   ],
   "source": [
    "filtered_numbers = A[(A >= 5) & (A <= 10)]\n",
    "print(filtered_numbers)"
   ]
  },
  {
   "cell_type": "markdown",
   "id": "48b23498-045c-4699-999e-0087e60fd761",
   "metadata": {},
   "source": [
    "4. Filter the rows of iris_2d that has petallength (3rd column) > 1.5\n",
    "and sepallength (1st column) < 5.0"
   ]
  },
  {
   "cell_type": "code",
   "execution_count": 95,
   "id": "fc3f42ca-95e0-4e24-9e6c-d58d116562b2",
   "metadata": {},
   "outputs": [],
   "source": [
    "# 4. Filter iris dataset\n",
    "url = 'https://archive.ics.uci.edu/ml/machine-learning-databases/iris/iris.data'\n",
    "iris_2d = np.genfromtxt(url, delimiter=',', dtype='float', usecols=[0,1,2,3])\n",
    "filtered_iris = iris_2d[(iris_2d[:, 2] > 1.5) & (iris_2d[:, 0] < 5.0)]\n"
   ]
  },
  {
   "cell_type": "code",
   "execution_count": 97,
   "id": "59cb84dd-400a-43b5-806f-b71f82f4ea06",
   "metadata": {},
   "outputs": [
    {
     "name": "stdout",
     "output_type": "stream",
     "text": [
      "[[4.8 3.4 1.6 0.2]\n",
      " [4.8 3.4 1.9 0.2]\n",
      " [4.7 3.2 1.6 0.2]\n",
      " [4.8 3.1 1.6 0.2]\n",
      " [4.9 2.4 3.3 1. ]\n",
      " [4.9 2.5 4.5 1.7]]\n"
     ]
    }
   ],
   "source": [
    "print(filtered_iris)"
   ]
  },
  {
   "cell_type": "markdown",
   "id": "0a49f1e7-d7b0-4fff-b9cc-e93a070fb52e",
   "metadata": {},
   "source": [
    "5. From df filter the 'Manufacturer', 'Model' and 'Type' for every\n",
    "20th row starting from 1st (row 0)\n"
   ]
  },
  {
   "cell_type": "code",
   "execution_count": 100,
   "id": "c2b0b883-cd9f-43bf-93b4-bfee4ac4734a",
   "metadata": {},
   "outputs": [],
   "source": [
    "df = pd.read_csv('https://raw.githubusercontent.com/selva86/datasets/master/Cars93_miss.csv')"
   ]
  },
  {
   "cell_type": "code",
   "execution_count": 102,
   "id": "69f0a011-9751-4206-b0f5-27d557957377",
   "metadata": {},
   "outputs": [],
   "source": [
    "# Select the desired columns\n",
    "selected_columns = ['Manufacturer', 'Model', 'Type']\n",
    "\n",
    "# Filter rows and columns\n",
    "filtered_cars = df.loc[df.index[::20], selected_columns]"
   ]
  },
  {
   "cell_type": "code",
   "execution_count": 104,
   "id": "8975a136-fa35-499e-8521-42fed76d4379",
   "metadata": {},
   "outputs": [
    {
     "name": "stdout",
     "output_type": "stream",
     "text": [
      "   Manufacturer    Model     Type\n",
      "0         Acura  Integra    Small\n",
      "20     Chrysler  LeBaron  Compact\n",
      "40        Honda  Prelude   Sporty\n",
      "60      Mercury   Cougar  Midsize\n",
      "80       Subaru   Loyale    Small\n"
     ]
    }
   ],
   "source": [
    "print(filtered_cars)"
   ]
  },
  {
   "cell_type": "markdown",
   "id": "90d9389d-5481-4b78-9dba-641c7f2d173f",
   "metadata": {},
   "source": [
    "6. Replace missing values in Min.Price and Max.Price columns with\n",
    "their respective mean."
   ]
  },
  {
   "cell_type": "code",
   "execution_count": 107,
   "id": "fb7429ac-3acd-4c24-ac13-8f172a0a3f2f",
   "metadata": {},
   "outputs": [],
   "source": [
    "df = pd.read_csv('https://raw.githubusercontent.com/selva86/datasets/master/Cars93_miss.csv')"
   ]
  },
  {
   "cell_type": "code",
   "execution_count": 109,
   "id": "aa1939c7-076e-4fe4-978d-a31a3e6d3b8e",
   "metadata": {},
   "outputs": [
    {
     "name": "stdout",
     "output_type": "stream",
     "text": [
      "   Min.Price  Max.Price\n",
      "0  12.900000  18.800000\n",
      "1  29.200000  38.700000\n",
      "2  25.900000  32.300000\n",
      "3  17.118605  44.600000\n",
      "4  17.118605  21.459091\n",
      "Min.Price    0\n",
      "Max.Price    0\n",
      "dtype: int64\n"
     ]
    }
   ],
   "source": [
    "import pandas as pd\n",
    "\n",
    "# Load the dataset\n",
    "df = pd.read_csv('https://raw.githubusercontent.com/selva86/datasets/master/Cars93_miss.csv')\n",
    "\n",
    "# Replace missing values in Min.Price and Max.Price with their means\n",
    "df['Min.Price'] = df['Min.Price'].fillna(df['Min.Price'].mean())\n",
    "df['Max.Price'] = df['Max.Price'].fillna(df['Max.Price'].mean())\n",
    "\n",
    "# Verify the changes\n",
    "print(df[['Min.Price', 'Max.Price']].head())\n",
    "print(df[['Min.Price', 'Max.Price']].isnull().sum())"
   ]
  },
  {
   "cell_type": "code",
   "execution_count": 111,
   "id": "f6a735c8-d6f0-467e-8c17-8551e0eca444",
   "metadata": {},
   "outputs": [],
   "source": [
    "# 7. Get rows with row sum > 100\n",
    "random_df = pd.DataFrame(np.random.randint(10, 40, 60).reshape(-1, 4))\n",
    "rows_greater_than_100 = random_df[random_df.sum(axis=1) > 100]"
   ]
  },
  {
   "cell_type": "code",
   "execution_count": 113,
   "id": "3f789197-5868-4528-9c89-f56b9cf8e09e",
   "metadata": {},
   "outputs": [
    {
     "name": "stdout",
     "output_type": "stream",
     "text": [
      "     0   1   2   3\n",
      "0   32  29  37  10\n",
      "3   22  33  38  35\n",
      "7   39  29  28  21\n",
      "9   25  35  35  13\n",
      "13  39  38  34  36\n",
      "14  22  31  30  35\n"
     ]
    }
   ],
   "source": [
    "print(rows_greater_than_100)"
   ]
  },
  {
   "cell_type": "code",
   "execution_count": null,
   "id": "6496ceda-d7ab-4c06-857a-57b435a54b4a",
   "metadata": {},
   "outputs": [],
   "source": []
  },
  {
   "cell_type": "code",
   "execution_count": null,
   "id": "22b0f518-650b-45f6-9465-c42659760c79",
   "metadata": {},
   "outputs": [],
   "source": []
  }
 ],
 "metadata": {
  "kernelspec": {
   "display_name": "Python 3 (ipykernel)",
   "language": "python",
   "name": "python3"
  },
  "language_info": {
   "codemirror_mode": {
    "name": "ipython",
    "version": 3
   },
   "file_extension": ".py",
   "mimetype": "text/x-python",
   "name": "python",
   "nbconvert_exporter": "python",
   "pygments_lexer": "ipython3",
   "version": "3.12.4"
  }
 },
 "nbformat": 4,
 "nbformat_minor": 5
}
